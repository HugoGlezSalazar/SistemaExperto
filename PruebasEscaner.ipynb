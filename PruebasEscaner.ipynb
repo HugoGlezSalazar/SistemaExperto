{
 "cells": [
  {
   "cell_type": "markdown",
   "metadata": {},
   "source": [
    "## Analizador Lexico\n",
    "Un analizador lexico transforma una entrada en tokens"
   ]
  },
  {
   "cell_type": "code",
   "execution_count": 165,
   "metadata": {},
   "outputs": [],
   "source": [
    "entrada = \"Si si es de dia entonces mañana no es de noche\""
   ]
  },
  {
   "cell_type": "code",
   "execution_count": 166,
   "metadata": {},
   "outputs": [
    {
     "data": {
      "text/plain": [
       "['si',\n",
       " 'si',\n",
       " 'es',\n",
       " 'de',\n",
       " 'dia',\n",
       " 'entonces',\n",
       " 'mañana',\n",
       " 'no',\n",
       " 'es',\n",
       " 'de',\n",
       " 'noche']"
      ]
     },
     "execution_count": 166,
     "metadata": {},
     "output_type": "execute_result"
    }
   ],
   "source": [
    "tokens = entrada.lower().split()\n",
    "tokens"
   ]
  },
  {
   "cell_type": "code",
   "execution_count": 167,
   "metadata": {},
   "outputs": [],
   "source": [
    "from enum import Enum\n",
    "\n",
    "class TipoToken(Enum):\n",
    "    O = 1\n",
    "    Y = 2\n",
    "    S = 3\n",
    "    N = 4\n",
    "    E = 5\n",
    "    P = 6"
   ]
  },
  {
   "cell_type": "code",
   "execution_count": 168,
   "metadata": {
    "vscode": {
     "languageId": "javascript"
    }
   },
   "outputs": [
    {
     "data": {
      "text/plain": [
       "[{'valor': 'si', 'tipo': <TipoToken.S: 3>},\n",
       " {'valor': 'si', 'tipo': <TipoToken.S: 3>},\n",
       " {'valor': 'es', 'tipo': <TipoToken.P: 6>},\n",
       " {'valor': 'de', 'tipo': <TipoToken.P: 6>},\n",
       " {'valor': 'dia', 'tipo': <TipoToken.P: 6>},\n",
       " {'valor': 'entonces', 'tipo': <TipoToken.E: 5>},\n",
       " {'valor': 'mañana', 'tipo': <TipoToken.P: 6>},\n",
       " {'valor': 'no', 'tipo': <TipoToken.N: 4>},\n",
       " {'valor': 'es', 'tipo': <TipoToken.P: 6>},\n",
       " {'valor': 'de', 'tipo': <TipoToken.P: 6>},\n",
       " {'valor': 'noche', 'tipo': <TipoToken.P: 6>}]"
      ]
     },
     "execution_count": 168,
     "metadata": {},
     "output_type": "execute_result"
    }
   ],
   "source": [
    "lexemas = []\n",
    "for token in tokens:\n",
    "    if token == 'o':\n",
    "        lexemas.append({\"valor\" : token, \"tipo\": TipoToken.O })\n",
    "    elif token == 'y':\n",
    "        lexemas.append({\"valor\" : token, \"tipo\": TipoToken.Y})\n",
    "    elif token == 'si':\n",
    "        lexemas.append({\"valor\" : token, \"tipo\": TipoToken.S})\n",
    "    elif token == 'entonces':\n",
    "        lexemas.append({\"valor\" : token, \"tipo\": TipoToken.E})\n",
    "    elif token == 'no':\n",
    "        lexemas.append({\"valor\" : token, \"tipo\": TipoToken.N})\n",
    "    else :\n",
    "        lexemas.append({\"valor\" :token, \"tipo\": TipoToken.P})\n",
    "        \n",
    "lexemas"
   ]
  },
  {
   "cell_type": "markdown",
   "metadata": {},
   "source": [
    "## Analizador Sintactico"
   ]
  },
  {
   "cell_type": "markdown",
   "metadata": {},
   "source": []
  },
  {
   "cell_type": "code",
   "execution_count": 169,
   "metadata": {},
   "outputs": [],
   "source": [
    "class EstadosAnalizador(Enum):\n",
    "    INICIO = 1\n",
    "    PRECEDENTE = 2\n",
    "    ERROR1 = 3\n",
    "    NEGACION = 4\n",
    "    CONSECUENTE = 5\n",
    "    ATOMO = 6\n",
    "    DISYUNCION = 7\n",
    "    CONJUNCION = 8\n",
    "    ERROR2 = 9\n",
    "    FIN = 10"
   ]
  },
  {
   "cell_type": "code",
   "execution_count": 170,
   "metadata": {},
   "outputs": [],
   "source": [
    "def analizar_lexemas(lexemas):\n",
    "    EstadoActual = EstadosAnalizador.INICIO\n",
    "    mensaje_error = \"\"\n",
    "\n",
    "    for lexema in lexemas:\n",
    "        valor = lexema['valor']\n",
    "        if EstadoActual == EstadosAnalizador.INICIO:\n",
    "            if valor == \"si\":\n",
    "                EstadoActual = EstadosAnalizador.PRECEDENTE\n",
    "            else:\n",
    "                EstadoActual = EstadosAnalizador.ERROR1\n",
    "                mensaje_error = f\"Error en INICIO: se esperaba 'si', se encontró '{valor}'\"\n",
    "                break\n",
    "        elif EstadoActual == EstadosAnalizador.PRECEDENTE:\n",
    "            if valor == \"no\":\n",
    "                EstadoActual = EstadosAnalizador.NEGACION\n",
    "            elif valor == \"es\":\n",
    "                EstadoActual = EstadosAnalizador.CONSECUENTE\n",
    "            else:\n",
    "                EstadoActual = EstadosAnalizador.ERROR2\n",
    "                mensaje_error = f\"Error en PRECEDENTE: se esperaba 'no' o 'es', se encontró '{valor}'\"\n",
    "                break\n",
    "        elif EstadoActual == EstadosAnalizador.NEGACION:\n",
    "            if valor == \"de\":\n",
    "                EstadoActual = EstadosAnalizador.ATOMO\n",
    "            else:\n",
    "                EstadoActual = EstadosAnalizador.ERROR2\n",
    "                mensaje_error = f\"Error en NEGACION: se esperaba 'de', se encontró '{valor}'\"\n",
    "                break\n",
    "        elif EstadoActual == EstadosAnalizador.CONSECUENTE:\n",
    "            if valor == \"de\":\n",
    "                EstadoActual = EstadosAnalizador.ATOMO\n",
    "            else:\n",
    "                EstadoActual = EstadosAnalizador.ERROR2\n",
    "                mensaje_error = f\"Error en CONSECUENTE: se esperaba 'de', se encontró '{valor}'\"\n",
    "                break\n",
    "        elif EstadoActual == EstadosAnalizador.ATOMO:\n",
    "            if valor == \"entonces\":\n",
    "                EstadoActual = EstadosAnalizador.FIN\n",
    "            elif valor == \"y\":\n",
    "                EstadoActual = EstadosAnalizador.CONJUNCION\n",
    "            elif valor == \"o\":\n",
    "                EstadoActual = EstadosAnalizador.DISYUNCION\n",
    "            else:\n",
    "                EstadoActual = EstadosAnalizador.ERROR2\n",
    "                mensaje_error = f\"Error en ATOMO: se esperaba 'entonces', 'y' o 'o', se encontró '{valor}'\"\n",
    "                break\n",
    "        elif EstadoActual == EstadosAnalizador.CONJUNCION:\n",
    "            if valor == \"de\":\n",
    "                EstadoActual = EstadosAnalizador.ATOMO\n",
    "            else:\n",
    "                EstadoActual = EstadosAnalizador.ERROR2\n",
    "                mensaje_error = f\"Error en CONJUNCION: se esperaba 'de', se encontró '{valor}'\"\n",
    "                break\n",
    "        elif EstadoActual == EstadosAnalizador.DISYUNCION:\n",
    "            if valor == \"de\":\n",
    "                EstadoActual = EstadosAnalizador.ATOMO\n",
    "            else:\n",
    "                EstadoActual = EstadosAnalizador.ERROR2\n",
    "                mensaje_error = f\"Error en DISYUNCION: se esperaba 'de', se encontró '{valor}'\"\n",
    "                break\n",
    "\n",
    "    if EstadoActual == EstadosAnalizador.FIN:\n",
    "        return True, \"Análisis completado con éxito\"\n",
    "    else:\n",
    "        return False, mensaje_error"
   ]
  },
  {
   "cell_type": "code",
   "execution_count": 171,
   "metadata": {},
   "outputs": [
    {
     "name": "stdout",
     "output_type": "stream",
     "text": [
      "True Análisis completado con éxito\n"
     ]
    }
   ],
   "source": [
    "lexemas = [\n",
    "    {\"valor\": \"si\", \"tipo\": TipoToken.S},\n",
    "    {\"valor\": \"es\", \"tipo\": TipoToken.P},\n",
    "    {\"valor\": \"de\", \"tipo\": TipoToken.P},\n",
    "    {\"valor\": \"entonces\", \"tipo\": TipoToken.E}\n",
    "]\n",
    "resultado, mensaje = analizar_lexemas(lexemas)\n",
    "print(resultado, mensaje)"
   ]
  },
  {
   "cell_type": "markdown",
   "metadata": {},
   "source": [
    "Arbol Binario"
   ]
  },
  {
   "cell_type": "code",
   "execution_count": 172,
   "metadata": {},
   "outputs": [
    {
     "name": "stdout",
     "output_type": "stream",
     "text": [
      "Aquí están las frases que empiezan con 'Si':\n",
      "Si está lloviendo entonces nos quedamos en casa.\n",
      "Si está nevando entonces jugamos en la nieve.\n",
      "Si hay niebla entonces conducimos con cuidado.\n",
      "Si hay viento fuerte entonces cerramos las ventanas.\n",
      "Si está soleado entonces vamos a la playa.\n",
      "Si está nublado entonces vamos al cine.\n",
      "\n",
      "Aquí están las frases que no empiezan con 'Si':\n",
      "Hay tormenta entonces no salimos.\n",
      "No es de noche entonces encendemos apagamos las luces.\n",
      "No hace frío entonces no nos abrigamos.\n",
      "Hace calor entonces bebemos mucha agua.\n",
      "\n",
      "Tabla de frases:\n",
      "+--------------------------------------------------------+--------+\n",
      "|                         Frase                          | Puesto |\n",
      "+--------------------------------------------------------+--------+\n",
      "|    Si está lloviendo entonces nos quedamos en casa.    |   1    |\n",
      "|     Si está nevando entonces jugamos en la nieve.      |   2    |\n",
      "|     Si hay niebla entonces conducimos con cuidado.     |   3    |\n",
      "|  Si hay viento fuerte entonces cerramos las ventanas.  |   4    |\n",
      "|       Si está soleado entonces vamos a la playa.       |   5    |\n",
      "|        Si está nublado entonces vamos al cine.         |   6    |\n",
      "|           Hay tormenta entonces no salimos.            |   7    |\n",
      "| No es de noche entonces encendemos apagamos las luces. |   8    |\n",
      "|        No hace frío entonces no nos abrigamos.         |   9    |\n",
      "|        Hace calor entonces bebemos mucha agua.         |   10   |\n",
      "+--------------------------------------------------------+--------+\n"
     ]
    }
   ],
   "source": [
    "from prettytable import PrettyTable\n",
    "\n",
    "class Nodo:\n",
    "    def __init__(self, regla):\n",
    "        self.regla = regla\n",
    "        self.izquierda = None\n",
    "        self.derecha = None\n",
    "\n",
    "# Crear los nodos del árbol\n",
    "nodo1 = Nodo(\"Si está soleado entonces vamos a la playa.\")\n",
    "nodo2 = Nodo(\"Si está nublado entonces vamos al cine.\")\n",
    "nodo3 = Nodo(\"Si está lloviendo entonces nos quedamos en casa.\")\n",
    "nodo4 = Nodo(\"Hay tormenta entonces no salimos.\")\n",
    "nodo5 = Nodo(\"Si hay niebla entonces conducimos con cuidado.\")\n",
    "nodo6 = Nodo(\"Si está nevando entonces jugamos en la nieve.\")\n",
    "nodo7 = Nodo(\"Hace calor entonces bebemos mucha agua.\")\n",
    "nodo8 = Nodo(\"No hace frío entonces no nos abrigamos.\")\n",
    "nodo9 = Nodo(\"Si hay viento fuerte entonces cerramos las ventanas.\")\n",
    "nodo10 = Nodo(\"No es de noche entonces encendemos apagamos las luces.\")\n",
    "\n",
    "# Asignar las ramas del árbol\n",
    "nodo1.izquierda = nodo3\n",
    "nodo1.derecha = nodo2\n",
    "nodo3.izquierda = nodo4\n",
    "nodo3.derecha = nodo5\n",
    "nodo5.izquierda = nodo6\n",
    "nodo5.derecha = nodo7\n",
    "nodo7.izquierda = nodo8\n",
    "nodo7.derecha = nodo9\n",
    "nodo8.izquierda = nodo10\n",
    "\n",
    "# Función para recorrer el árbol en orden\n",
    "def recorrer_arbol(nodo, si_phrases, no_si_phrases):\n",
    "    if nodo is not None:\n",
    "        recorrer_arbol(nodo.izquierda, si_phrases, no_si_phrases)\n",
    "        if nodo.regla.startswith(\"Si\"):\n",
    "            si_phrases.append(nodo.regla)\n",
    "        else:\n",
    "            no_si_phrases.append(nodo.regla)\n",
    "        recorrer_arbol(nodo.derecha, si_phrases, no_si_phrases)\n",
    "\n",
    "# Recorrer el árbol en orden\n",
    "si_phrases = []\n",
    "no_si_phrases = []\n",
    "recorrer_arbol(nodo1, si_phrases, no_si_phrases)\n",
    "\n",
    "# Imprimir las frases que empiezan con \"Si\"\n",
    "print(\"Aquí están las frases que empiezan con 'Si':\")\n",
    "for frase in si_phrases:\n",
    "    print(frase)\n",
    "\n",
    "# Imprimir las frases que no empiezan con \"Si\"\n",
    "print(\"\\nAquí están las frases que no empiezan con 'Si':\")\n",
    "for frase in no_si_phrases:\n",
    "    print(frase)\n",
    "\n",
    "# Crear la tabla con las frases y su número de puesto\n",
    "tabla = []\n",
    "for i, frase in enumerate(si_phrases + no_si_phrases, start=1):\n",
    "    tabla.append((frase, i))\n",
    "\n",
    "# Usar PrettyTable para imprimir la tabla\n",
    "tabla_pretty = PrettyTable()\n",
    "tabla_pretty.field_names = [\"Frase\", \"Puesto\"]\n",
    "for frase, puesto in tabla:\n",
    "    tabla_pretty.add_row([frase, puesto])\n",
    "\n",
    "print(\"\\nTabla de frases:\")\n",
    "print(tabla_pretty)"
   ]
  },
  {
   "cell_type": "markdown",
   "metadata": {},
   "source": [
    "Analizador Semantico"
   ]
  },
  {
   "cell_type": "code",
   "execution_count": 173,
   "metadata": {},
   "outputs": [],
   "source": [
    "def analizar_semantica(nodo):\n",
    "    if nodo is not None:\n",
    "        if nodo.regla.startswith(\"Si\"):\n",
    "            # Verificar que la regla tenga el formato \"Si ... entonces ...\"\n",
    "            if \"entonces\" not in nodo.regla:\n",
    "                return False, f\"Error semántico: la regla '{nodo.regla}' no tiene una consecuencia definida.\"\n",
    "        # Recorrer recursivamente las ramas\n",
    "        izquierda_valida, mensaje_izquierda = analizar_semantica(nodo.izquierda)\n",
    "        derecha_valida, mensaje_derecha = analizar_semantica(nodo.derecha)\n",
    "        if not izquierda_valida:\n",
    "            return False, mensaje_izquierda\n",
    "        if not derecha_valida:\n",
    "            return False, mensaje_derecha\n",
    "    return True, \"Análisis semántico completado con éxito.\"\n"
   ]
  },
  {
   "cell_type": "code",
   "execution_count": 174,
   "metadata": {},
   "outputs": [
    {
     "name": "stdout",
     "output_type": "stream",
     "text": [
      "Análisis semántico: todas las reglas que empiezan con 'Si' tienen el formato correcto.\n"
     ]
    }
   ],
   "source": [
    "# Verificar semántica de las reglas que comienzan con \"Si\"\n",
    "resultado_semantico, mensaje_semantico = analizar_semantica(nodo1)\n",
    "if resultado_semantico:\n",
    "    print(\"Análisis semántico: todas las reglas que empiezan con 'Si' tienen el formato correcto.\")\n",
    "else:\n",
    "    print(\"Error en análisis semántico:\")\n",
    "    print(mensaje_semantico)"
   ]
  }
 ],
 "metadata": {
  "kernelspec": {
   "display_name": ".venv",
   "language": "python",
   "name": "python3"
  },
  "language_info": {
   "codemirror_mode": {
    "name": "ipython",
    "version": 3
   },
   "file_extension": ".py",
   "mimetype": "text/x-python",
   "name": "python",
   "nbconvert_exporter": "python",
   "pygments_lexer": "ipython3",
   "version": "3.12.0"
  }
 },
 "nbformat": 4,
 "nbformat_minor": 2
}
